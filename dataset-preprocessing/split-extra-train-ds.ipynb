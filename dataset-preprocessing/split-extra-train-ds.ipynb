{
 "cells": [
  {
   "cell_type": "code",
   "execution_count": 89,
   "metadata": {},
   "outputs": [],
   "source": [
    "import os\n",
    "import numpy as np\n",
    "from pathlib import Path\n",
    "import cv2\n",
    "import shutil\n",
    "\n",
    "np.random.seed(2023)\n"
   ]
  },
  {
   "cell_type": "code",
   "execution_count": null,
   "metadata": {},
   "outputs": [],
   "source": [
    "files = [str(path) for path in Path(f'/home/pedke/dataset/datasets/15-October-23_split - no_special_chars/train-2/images/').glob('*')]"
   ]
  },
  {
   "cell_type": "code",
   "execution_count": 91,
   "metadata": {},
   "outputs": [
    {
     "data": {
      "text/plain": [
       "149"
      ]
     },
     "execution_count": 91,
     "metadata": {},
     "output_type": "execute_result"
    }
   ],
   "source": [
    "len(files)"
   ]
  },
  {
   "cell_type": "code",
   "execution_count": 92,
   "metadata": {},
   "outputs": [],
   "source": [
    "np.random.seed(2023)\n",
    "random_files = np.random.choice(files, size=32, replace=False)"
   ]
  },
  {
   "cell_type": "code",
   "execution_count": 93,
   "metadata": {},
   "outputs": [
    {
     "data": {
      "text/plain": [
       "32"
      ]
     },
     "execution_count": 93,
     "metadata": {},
     "output_type": "execute_result"
    }
   ],
   "source": [
    "len(random_files)"
   ]
  },
  {
   "cell_type": "code",
   "execution_count": 94,
   "metadata": {},
   "outputs": [
    {
     "data": {
      "text/plain": [
       "array(['/home/pedke/dataset/datasets/15-October-23_split - no_special_chars/train-2/images/b12.png',\n",
       "       '/home/pedke/dataset/datasets/15-October-23_split - no_special_chars/train-2/images/Photo 2016-04-15, 12 45 07 PM.jpg',\n",
       "       '/home/pedke/dataset/datasets/15-October-23_split - no_special_chars/train-2/images/Photo 2017-10-12, 13 14 34.jpg',\n",
       "       '/home/pedke/dataset/datasets/15-October-23_split - no_special_chars/train-2/images/Unfavor. plate.JPG',\n",
       "       '/home/pedke/dataset/datasets/15-October-23_split - no_special_chars/train-2/images/Photo 2016-07-25, 8 17 08 AM.jpg',\n",
       "       '/home/pedke/dataset/datasets/15-October-23_split - no_special_chars/train-2/images/a13.png',\n",
       "       '/home/pedke/dataset/datasets/15-October-23_split - no_special_chars/train-2/images/Photo 2017-06-05, 10 36 04.jpg',\n",
       "       '/home/pedke/dataset/datasets/15-October-23_split - no_special_chars/train-2/images/Photo 2017-08-02, 09 18 23.jpg',\n",
       "       '/home/pedke/dataset/datasets/15-October-23_split - no_special_chars/train-2/images/2018-03-27 08.59.00.jpg',\n",
       "       '/home/pedke/dataset/datasets/15-October-23_split - no_special_chars/train-2/images/Photo 2014-11-17, 8 29 20 AM.jpg',\n",
       "       '/home/pedke/dataset/datasets/15-October-23_split - no_special_chars/train-2/images/DSC08985.JPG',\n",
       "       '/home/pedke/dataset/datasets/15-October-23_split - no_special_chars/train-2/images/Photo 2017-06-07, 08 23 33.jpg',\n",
       "       '/home/pedke/dataset/datasets/15-October-23_split - no_special_chars/train-2/images/DSCN2450.JPG',\n",
       "       '/home/pedke/dataset/datasets/15-October-23_split - no_special_chars/train-2/images/b20.png',\n",
       "       '/home/pedke/dataset/datasets/15-October-23_split - no_special_chars/train-2/images/DSC00110.JPG',\n",
       "       '/home/pedke/dataset/datasets/15-October-23_split - no_special_chars/train-2/images/a3.png',\n",
       "       '/home/pedke/dataset/datasets/15-October-23_split - no_special_chars/train-2/images/DSCF1806.JPG',\n",
       "       '/home/pedke/dataset/datasets/15-October-23_split - no_special_chars/train-2/images/Photo 2013-09-05, 8 23 14 AM.jpg',\n",
       "       '/home/pedke/dataset/datasets/15-October-23_split - no_special_chars/train-2/images/DSCN1087.JPG',\n",
       "       '/home/pedke/dataset/datasets/15-October-23_split - no_special_chars/train-2/images/Case for long TIP.JPG',\n",
       "       '/home/pedke/dataset/datasets/15-October-23_split - no_special_chars/train-2/images/Photo 2017-07-20, 10 47 57.jpg',\n",
       "       '/home/pedke/dataset/datasets/15-October-23_split - no_special_chars/train-2/images/2018-02-27 13.00.10.jpg',\n",
       "       '/home/pedke/dataset/datasets/15-October-23_split - no_special_chars/train-2/images/a6.png',\n",
       "       '/home/pedke/dataset/datasets/15-October-23_split - no_special_chars/train-2/images/P1070466.JPG',\n",
       "       '/home/pedke/dataset/datasets/15-October-23_split - no_special_chars/train-2/images/DSC01745.JPG',\n",
       "       '/home/pedke/dataset/datasets/15-October-23_split - no_special_chars/train-2/images/2018-05-29 07.47.03.jpg',\n",
       "       '/home/pedke/dataset/datasets/15-October-23_split - no_special_chars/train-2/images/DSC01071.JPG',\n",
       "       '/home/pedke/dataset/datasets/15-October-23_split - no_special_chars/train-2/images/b19.png',\n",
       "       '/home/pedke/dataset/datasets/15-October-23_split - no_special_chars/train-2/images/Photo 2017-01-26, 11 19 30 AM.jpg',\n",
       "       '/home/pedke/dataset/datasets/15-October-23_split - no_special_chars/train-2/images/Inicial.JPG',\n",
       "       '/home/pedke/dataset/datasets/15-October-23_split - no_special_chars/train-2/images/2018-04-19 13.50.48.jpg',\n",
       "       '/home/pedke/dataset/datasets/15-October-23_split - no_special_chars/train-2/images/DSCN2245.JPG'],\n",
       "      dtype='<U140')"
      ]
     },
     "execution_count": 94,
     "metadata": {},
     "output_type": "execute_result"
    }
   ],
   "source": [
    "random_files"
   ]
  },
  {
   "cell_type": "code",
   "execution_count": 95,
   "metadata": {},
   "outputs": [
    {
     "data": {
      "text/plain": [
       "'/home/pedke/dataset/datasets/15-October-23_split - no_special_chars/train-2/images/b12.png'"
      ]
     },
     "execution_count": 95,
     "metadata": {},
     "output_type": "execute_result"
    }
   ],
   "source": [
    "random_files[0]"
   ]
  },
  {
   "cell_type": "code",
   "execution_count": 96,
   "metadata": {},
   "outputs": [
    {
     "name": "stdout",
     "output_type": "stream",
     "text": [
      "0 /home/pedke/dataset/datasets/15-October-23_split - no_special_chars/train-2/images/b12.png\n",
      "1 /home/pedke/dataset/datasets/15-October-23_split - no_special_chars/train-2/images/Photo 2016-04-15, 12 45 07 PM.jpg\n",
      "2 /home/pedke/dataset/datasets/15-October-23_split - no_special_chars/train-2/images/Photo 2017-10-12, 13 14 34.jpg\n",
      "3 /home/pedke/dataset/datasets/15-October-23_split - no_special_chars/train-2/images/Unfavor. plate.JPG\n",
      "4 /home/pedke/dataset/datasets/15-October-23_split - no_special_chars/train-2/images/Photo 2016-07-25, 8 17 08 AM.jpg\n",
      "5 /home/pedke/dataset/datasets/15-October-23_split - no_special_chars/train-2/images/a13.png\n",
      "6 /home/pedke/dataset/datasets/15-October-23_split - no_special_chars/train-2/images/Photo 2017-06-05, 10 36 04.jpg\n",
      "7 /home/pedke/dataset/datasets/15-October-23_split - no_special_chars/train-2/images/Photo 2017-08-02, 09 18 23.jpg\n",
      "8 /home/pedke/dataset/datasets/15-October-23_split - no_special_chars/train-2/images/2018-03-27 08.59.00.jpg\n",
      "9 /home/pedke/dataset/datasets/15-October-23_split - no_special_chars/train-2/images/Photo 2014-11-17, 8 29 20 AM.jpg\n",
      "10 /home/pedke/dataset/datasets/15-October-23_split - no_special_chars/train-2/images/DSC08985.JPG\n",
      "11 /home/pedke/dataset/datasets/15-October-23_split - no_special_chars/train-2/images/Photo 2017-06-07, 08 23 33.jpg\n",
      "12 /home/pedke/dataset/datasets/15-October-23_split - no_special_chars/train-2/images/DSCN2450.JPG\n",
      "13 /home/pedke/dataset/datasets/15-October-23_split - no_special_chars/train-2/images/b20.png\n",
      "14 /home/pedke/dataset/datasets/15-October-23_split - no_special_chars/train-2/images/DSC00110.JPG\n",
      "15 /home/pedke/dataset/datasets/15-October-23_split - no_special_chars/train-2/images/a3.png\n",
      "16 /home/pedke/dataset/datasets/15-October-23_split - no_special_chars/train-2/images/DSCF1806.JPG\n",
      "17 /home/pedke/dataset/datasets/15-October-23_split - no_special_chars/train-2/images/Photo 2013-09-05, 8 23 14 AM.jpg\n",
      "18 /home/pedke/dataset/datasets/15-October-23_split - no_special_chars/train-2/images/DSCN1087.JPG\n",
      "19 /home/pedke/dataset/datasets/15-October-23_split - no_special_chars/train-2/images/Case for long TIP.JPG\n",
      "20 /home/pedke/dataset/datasets/15-October-23_split - no_special_chars/train-2/images/Photo 2017-07-20, 10 47 57.jpg\n",
      "21 /home/pedke/dataset/datasets/15-October-23_split - no_special_chars/train-2/images/2018-02-27 13.00.10.jpg\n",
      "22 /home/pedke/dataset/datasets/15-October-23_split - no_special_chars/train-2/images/a6.png\n",
      "23 /home/pedke/dataset/datasets/15-October-23_split - no_special_chars/train-2/images/P1070466.JPG\n",
      "24 /home/pedke/dataset/datasets/15-October-23_split - no_special_chars/train-2/images/DSC01745.JPG\n",
      "25 /home/pedke/dataset/datasets/15-October-23_split - no_special_chars/train-2/images/2018-05-29 07.47.03.jpg\n",
      "26 /home/pedke/dataset/datasets/15-October-23_split - no_special_chars/train-2/images/DSC01071.JPG\n",
      "27 /home/pedke/dataset/datasets/15-October-23_split - no_special_chars/train-2/images/b19.png\n",
      "28 /home/pedke/dataset/datasets/15-October-23_split - no_special_chars/train-2/images/Photo 2017-01-26, 11 19 30 AM.jpg\n",
      "29 /home/pedke/dataset/datasets/15-October-23_split - no_special_chars/train-2/images/Inicial.JPG\n",
      "30 /home/pedke/dataset/datasets/15-October-23_split - no_special_chars/train-2/images/2018-04-19 13.50.48.jpg\n",
      "31 /home/pedke/dataset/datasets/15-October-23_split - no_special_chars/train-2/images/DSCN2245.JPG\n"
     ]
    }
   ],
   "source": [
    "dataset_dir = f'/home/pedke/dataset/datasets/15-October-23_split - no_special_chars/val-2/images/'\n",
    "if not os.path.isdir(dataset_dir):\n",
    "    Path(dataset_dir).mkdir(parents=True, exist_ok=True)\n",
    "    for i, f in enumerate(random_files):\n",
    "        shutil.move(f, dataset_dir)\n",
    "        # os.remove(f)\n",
    "        print(i, f)\n",
    "\n",
    "    \n",
    "    \n"
   ]
  },
  {
   "cell_type": "code",
   "execution_count": 97,
   "metadata": {},
   "outputs": [],
   "source": [
    "train2files = [str(path) for path in Path(f'/home/pedke/dataset/datasets/15-October-23_split - no_special_chars/train-2/images/').glob('*')]\n",
    "val2files = [str(path) for path in Path(f'/home/pedke/dataset/datasets/15-October-23_split - no_special_chars/val-2/images/').glob('*')]"
   ]
  },
  {
   "cell_type": "code",
   "execution_count": 98,
   "metadata": {},
   "outputs": [
    {
     "data": {
      "text/plain": [
       "(117, 32)"
      ]
     },
     "execution_count": 98,
     "metadata": {},
     "output_type": "execute_result"
    }
   ],
   "source": [
    "len(train2files), len(val2files)"
   ]
  },
  {
   "cell_type": "code",
   "execution_count": null,
   "metadata": {},
   "outputs": [],
   "source": []
  }
 ],
 "metadata": {
  "kernelspec": {
   "display_name": "pedke-venv",
   "language": "python",
   "name": "python3"
  },
  "language_info": {
   "codemirror_mode": {
    "name": "ipython",
    "version": 3
   },
   "file_extension": ".py",
   "mimetype": "text/x-python",
   "name": "python",
   "nbconvert_exporter": "python",
   "pygments_lexer": "ipython3",
   "version": "3.8.10"
  },
  "orig_nbformat": 4
 },
 "nbformat": 4,
 "nbformat_minor": 2
}
