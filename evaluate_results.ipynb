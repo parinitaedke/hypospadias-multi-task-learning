{
 "cells": [
  {
   "cell_type": "code",
   "execution_count": 31,
   "metadata": {},
   "outputs": [],
   "source": [
    "import numpy as np\n",
    "import pandas as pd\n",
    "import matplotlib.pyplot as plt\n",
    "from pathlib import Path\n",
    "from glob import glob\n",
    "import seaborn as sns"
   ]
  },
  {
   "cell_type": "code",
   "execution_count": 4,
   "metadata": {},
   "outputs": [],
   "source": [
    "def compute_matches(dir_path, mode, epoch, body_part):\n",
    "    labels_df = pd.read_csv(fr\"{dir_path}/files/saved_preds/{mode}_labels.csv\")\n",
    "    preds_df = pd.read_csv(fr\"{dir_path}/files/saved_preds/{mode}_preds.csv\")\n",
    "    \n",
    "    if mode == 'val':\n",
    "        wanted_labels_keys = list(labels_df.filter(regex=body_part).filter(regex='val').keys())\n",
    "        wanted_preds_keys = list(preds_df.filter(regex=body_part).filter(regex='val').keys())\n",
    "    else:\n",
    "        wanted_labels_keys = list(labels_df.filter(regex=body_part).keys())\n",
    "        wanted_preds_keys = list(preds_df.filter(regex=body_part).keys())\n",
    "\n",
    "    temp = labels_df[wanted_labels_keys]\n",
    "    labels_df = pd.DataFrame(temp.iloc[-1]).rename(columns={epoch: 'Labels'})\n",
    "\n",
    "    temp = preds_df[wanted_preds_keys]\n",
    "    preds_df = pd.DataFrame(temp.iloc[-1]).rename(columns={epoch: 'Preds'})\n",
    "    \n",
    "    concat_df = pd.concat([labels_df, preds_df], axis=1)\n",
    "    concat_df['Rounded preds'] = np.round(concat_df['Preds'])\n",
    "    concat_df['Ceiled']=concat_df['Rounded preds'].apply(lambda x: 3.0 if x > 3.0 else x)\n",
    "    concat_df['Diff'] = np.absolute(concat_df['Ceiled'] - concat_df['Labels'])\n",
    "    \n",
    "    print(concat_df['Diff'].value_counts())\n",
    "    \n",
    "    "
   ]
  },
  {
   "cell_type": "code",
   "execution_count": null,
   "metadata": {},
   "outputs": [],
   "source": [
    "dir_path = r\"/home/pedke/multi-task-learning/wandb/run-20230823_144508-lk18695h\"\n",
    "mode = 'train'\n",
    "epoch = 99\n",
    "body_part = 'Glans'\n",
    "\n",
    "compute_matches(dir_path, mode, epoch, body_part)"
   ]
  },
  {
   "cell_type": "code",
   "execution_count": null,
   "metadata": {},
   "outputs": [],
   "source": []
  }
 ],
 "metadata": {
  "kernelspec": {
   "display_name": "pedke-venv",
   "language": "python",
   "name": "python3"
  },
  "language_info": {
   "codemirror_mode": {
    "name": "ipython",
    "version": 3
   },
   "file_extension": ".py",
   "mimetype": "text/x-python",
   "name": "python",
   "nbconvert_exporter": "python",
   "pygments_lexer": "ipython3",
   "version": "3.8.10"
  },
  "orig_nbformat": 4
 },
 "nbformat": 4,
 "nbformat_minor": 2
}
