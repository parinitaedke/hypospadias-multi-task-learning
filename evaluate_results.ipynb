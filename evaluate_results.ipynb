{
 "cells": [
  {
   "cell_type": "code",
   "execution_count": 1,
   "metadata": {},
   "outputs": [],
   "source": [
    "import numpy as np\n",
    "import pandas as pd\n",
    "import matplotlib.pyplot as plt\n",
    "from pathlib import Path\n",
    "from glob import glob\n",
    "import seaborn as sns"
   ]
  },
  {
   "cell_type": "code",
   "execution_count": 2,
   "metadata": {},
   "outputs": [],
   "source": [
    "def compute_matches(dir_path, mode, epoch, body_part, print_output=True):\n",
    "    labels_df = pd.read_csv(fr\"{dir_path}/files/saved_preds/{mode}_labels.csv\")\n",
    "    preds_df = pd.read_csv(fr\"{dir_path}/files/saved_preds/{mode}_preds.csv\")\n",
    "    \n",
    "    if mode == 'val':\n",
    "        wanted_labels_keys = list(labels_df.filter(regex=body_part).filter(regex='val').keys())\n",
    "        wanted_preds_keys = list(preds_df.filter(regex=body_part).filter(regex='val').keys())\n",
    "    else:\n",
    "        wanted_labels_keys = list(labels_df.filter(regex=body_part).keys())\n",
    "        wanted_preds_keys = list(preds_df.filter(regex=body_part).keys())\n",
    "\n",
    "    temp = labels_df[wanted_labels_keys]\n",
    "    labels_df = pd.DataFrame(temp.iloc[epoch]).rename(columns={epoch: 'Labels'})\n",
    "\n",
    "    temp = preds_df[wanted_preds_keys]\n",
    "    preds_df = pd.DataFrame(temp.iloc[epoch]).rename(columns={epoch: 'Preds'})\n",
    "    \n",
    "    concat_df = pd.concat([labels_df, preds_df], axis=1)\n",
    "    concat_df['Rounded preds'] = np.round(concat_df['Preds'])\n",
    "    concat_df['Ceiled']=concat_df['Rounded preds'].apply(lambda x: 3.0 if x > 3.0 else x)\n",
    "    concat_df['Diff'] = np.absolute(concat_df['Ceiled'] - concat_df['Labels'])\n",
    "    \n",
    "    if print_output:\n",
    "        print(concat_df['Diff'].value_counts())\n",
    "    \n",
    "    return concat_df\n",
    "    \n",
    "    "
   ]
  },
  {
   "cell_type": "code",
   "execution_count": 3,
   "metadata": {},
   "outputs": [],
   "source": [
    "def separate_train_results(dir_path, mode, epoch, body_part, print_output=True):\n",
    "\n",
    "    # gets the index values for the OG train dataset\n",
    "    index_df = compute_matches(r\"/home/pedke/multi-task-learning/wandb/run-20230910_154428-huyqycnd\", 'train', 1, body_part, print_output)\n",
    "    index_df.reset_index(inplace=True)\n",
    "    index_df.drop(['Labels', 'Preds', 'Rounded preds','Ceiled', 'Diff'], axis = 1, inplace = True)\n",
    "    \n",
    "    concat_df2 = compute_matches(dir_path, mode, epoch, body_part, print_output)\n",
    "    concat_df2.reset_index(inplace=True)\n",
    "    \n",
    "    interim_df = index_df.merge(concat_df2, on='index', how='left', indicator=True)\n",
    "    \n",
    "    print(interim_df['Diff'].value_counts())\n",
    "    \n",
    "    return interim_df"
   ]
  },
  {
   "cell_type": "code",
   "execution_count": 4,
   "metadata": {},
   "outputs": [],
   "source": [
    "def plot_category_answer_distribution(concat_df, category=0.0):\n",
    "    temp=concat_df.loc[concat_df['Diff'] == category]['Labels'].value_counts().sort_index()\n",
    "    index_list = [i + 1 for i in list(temp.index)]\n",
    "    values_list = list(temp.values)\n",
    "\n",
    "    missing_indicies = list(set([1, 2, 3, 4]).difference(index_list))\n",
    "\n",
    "    index_list.extend(missing_indicies)\n",
    "    values_list.extend([0]*len(missing_indicies))\n",
    "\n",
    "    final = []\n",
    "    for item in zip(index_list, values_list):\n",
    "        print(item)\n",
    "        final.append(list(item))\n",
    "        \n",
    "    final_df = pd.DataFrame(final, columns=['Labels', 'Count'], index=None)\n",
    "    final_df = final_df.set_index('Labels').sort_index()\n",
    "    final_df\n",
    "    \n",
    "    final_df.plot.bar()\n",
    "    "
   ]
  },
  {
   "cell_type": "code",
   "execution_count": 16,
   "metadata": {},
   "outputs": [
    {
     "name": "stdout",
     "output_type": "stream",
     "text": [
      "Diff\n",
      "1.0    182\n",
      "2.0     72\n",
      "0.0     50\n",
      "Name: count, dtype: int64\n"
     ]
    }
   ],
   "source": [
    "# General method\n",
    "dir_path = r\"/home/pedke/multi-task-learning/wandb/run-20231012_075233-prpkjr70\"\n",
    "mode = 'train'\n",
    "epoch = 39\n",
    "body_part = 'Shaft'\n",
    "\n",
    "concat_df = compute_matches(dir_path, mode, epoch, body_part)"
   ]
  },
  {
   "cell_type": "code",
   "execution_count": 71,
   "metadata": {},
   "outputs": [
    {
     "name": "stdout",
     "output_type": "stream",
     "text": [
      "(2, 28)\n",
      "(3, 24)\n",
      "(1, 0)\n",
      "(4, 0)\n"
     ]
    },
    {
     "data": {
      "image/png": "[encoded data removed]",
      "text/plain": [
       "<Figure size 640x480 with 1 Axes>"
      ]
     },
     "metadata": {},
     "output_type": "display_data"
    }
   ],
   "source": [
    "plot_category_answer_distribution(concat_df, category=0.0)"
   ]
  },
  {
   "cell_type": "code",
   "execution_count": 13,
   "metadata": {},
   "outputs": [
    {
     "name": "stdout",
     "output_type": "stream",
     "text": [
      "Diff\n",
      "1.0    73\n",
      "0.0    67\n",
      "2.0    15\n",
      "Name: count, dtype: int64\n"
     ]
    }
   ],
   "source": [
    "# To separate OG train ds values\n",
    "dir_path = r\"/home/pedke/multi-task-learning/wandb/run-20231011_220122-waox82id\"\n",
    "mode = 'train'\n",
    "epoch = 39\n",
    "body_part = 'Glans'\n",
    "\n",
    "concat_df = separate_train_results(dir_path, mode, epoch, body_part, print_output=False)"
   ]
  },
  {
   "cell_type": "code",
   "execution_count": null,
   "metadata": {},
   "outputs": [],
   "source": []
  }
 ],
 "metadata": {
  "kernelspec": {
   "display_name": "pedke-venv",
   "language": "python",
   "name": "python3"
  },
  "language_info": {
   "codemirror_mode": {
    "name": "ipython",
    "version": 3
   },
   "file_extension": ".py",
   "mimetype": "text/x-python",
   "name": "python",
   "nbconvert_exporter": "python",
   "pygments_lexer": "ipython3",
   "version": "3.8.10"
  },
  "orig_nbformat": 4
 },
 "nbformat": 4,
 "nbformat_minor": 2
}
