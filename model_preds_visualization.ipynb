{
 "cells": [
  {
   "cell_type": "code",
   "execution_count": 2,
   "metadata": {},
   "outputs": [],
   "source": [
    "import numpy as np\n",
    "import pandas as pd\n",
    "import matplotlib.pyplot as plt\n",
    "from pathlib import Path\n",
    "from glob import glob\n",
    "import seaborn as sns"
   ]
  },
  {
   "cell_type": "code",
   "execution_count": 22,
   "metadata": {},
   "outputs": [],
   "source": [
    "def measure_prediction_similarity(pred_df, label_df, epoch, image_ids):    \n",
    "    score_dict = {'matched': 0, 'closeby': 0, 'too_far': 0}\n",
    "    total = 0\n",
    "\n",
    "    exact, closeby, too_far_imgs = [], [], []\n",
    "\n",
    "    for img in image_ids:\n",
    "        img_pred = pred_df[pred_df.epoch==epoch][img]\n",
    "        img_gt = label_df[label_df.epoch==epoch][img]\n",
    "\n",
    "        diff = abs(img_pred.round().item() - img_gt.item())\n",
    "\n",
    "        if diff == 0:\n",
    "            score_dict['matched']+=1\n",
    "            exact.append((img, img_pred.item(), img_pred.round().item()))\n",
    "        elif diff == 1:\n",
    "            score_dict['closeby']+=1\n",
    "            closeby.append((img, img_pred.item(), img_pred.round().item()))\n",
    "        else:\n",
    "            score_dict['too_far']+=1\n",
    "            too_far_imgs.append((img, img_pred.item(), img_pred.round().item()))\n",
    "        \n",
    "        total +=1\n",
    "    \n",
    "    print(f'\\nExact: {exact}')\n",
    "    print(f'Closeby: {closeby}')\n",
    "    print(f'Too far: {too_far_imgs}')\n",
    "    \n",
    "    return score_dict, total\n"
   ]
  },
  {
   "cell_type": "code",
   "execution_count": 89,
   "metadata": {},
   "outputs": [],
   "source": [
    "labels = pd.read_csv(r\"C:\\Users\\Parinita Edke\\OneDrive - SickKids\\vanilla-singletask\\run-20230713_151912-vqocoqpx\\files\\saved_preds\\train_labels.csv\")\n",
    "preds = pd.read_csv(r\"C:\\Users\\Parinita Edke\\OneDrive - SickKids\\vanilla-singletask\\run-20230713_151912-vqocoqpx\\files\\saved_preds\\train_preds.csv\")"
   ]
  },
  {
   "cell_type": "code",
   "execution_count": 17,
   "metadata": {},
   "outputs": [],
   "source": [
    "# image_ids = list(labels.keys())\n",
    "# image_ids.remove('epoch')\n",
    "def score_breakdown(dir_path):\n",
    "    dir_path = dir_path\n",
    "\n",
    "    anatomy = ['Shaft'] #['Glans', 'Meatus', 'Shaft']\n",
    "    modes = ['val']# ['train', 'val']\n",
    "\n",
    "    for mode in modes:\n",
    "        labels = pd.read_csv(fr\"{dir_path}\\files\\saved_preds\\{mode}_labels.csv\")\n",
    "        preds = pd.read_csv(fr\"{dir_path}\\files\\saved_preds\\{mode}_preds.csv\")\n",
    "\n",
    "        for bodypart in anatomy:\n",
    "            if mode == 'train':\n",
    "                image_ids = list(labels.filter(regex=bodypart).keys())\n",
    "            elif mode == 'val':\n",
    "                image_ids = list(labels.filter(regex=bodypart).filter(regex='val').keys())\n",
    "\n",
    "            score_dict, total = measure_prediction_similarity(preds, labels, epoch=39, image_ids=image_ids)\n",
    "            print(f'{mode}-{bodypart} Score dict: {score_dict}', f'\\nTotal: {total}')\n",
    "    "
   ]
  },
  {
   "cell_type": "code",
   "execution_count": 30,
   "metadata": {},
   "outputs": [
    {
     "name": "stdout",
     "output_type": "stream",
     "text": [
      "\n",
      "Exact: [('val_Harris poor plate2-Shaft', 1.4558899402618408, 1.0), ('val_Photo 2017-06-07, 08 23 21-Shaft', 1.4558899402618408, 1.0), ('val_DSC08485-Shaft', 1.4558899402618408, 1.0), ('val_Photo 2017-06-05, 10 36 01-Shaft', 1.4558899402618408, 1.0), ('val_2018-05-09 11.41.39-Shaft', 1.4558899402618408, 1.0), ('val_DSC07564-Shaft', 1.4558899402618408, 1.0)]\n",
      "Closeby: [('val_DSC02086-Shaft', 1.4558899402618408, 1.0), ('val_2018-01-15 08.39.51-Shaft', 1.4558899402618408, 1.0), ('val_Photo 2015-09-03, 8 25 57 AM-Shaft', 1.4558899402618408, 1.0), ('val_DSCF5986-Shaft', 1.4558899402618408, 1.0), ('val_Photo 2017-01-26, 11 18 57 AM-Shaft', 1.4558899402618408, 1.0)]\n",
      "Too far: [('val_DSC00723-Shaft', 1.4558899402618408, 1.0), ('val_Penoscrotal with bad plate-Shaft', 1.4558899402618408, 1.0), ('val_DSC04054-Shaft', 1.4558899402618408, 1.0), ('val_P1080221-Shaft', 1.4558899402618408, 1.0), ('val_DSC03990-Shaft', 1.4558899402618408, 1.0), ('val_DSC07609-Shaft', 1.4558899402618408, 1.0), ('val_DSC00131-Shaft', 1.4558899402618408, 1.0)]\n",
      "val-Shaft Score dict: {'matched': 6, 'closeby': 5, 'too_far': 7} \n",
      "Total: 18\n"
     ]
    }
   ],
   "source": [
    "score_breakdown(dir_path=r\"C:\\Users\\Parinita Edke\\OneDrive - SickKids\\vanilla-multitask\\run-20230719_190736-4sf2ribw\")"
   ]
  },
  {
   "attachments": {},
   "cell_type": "markdown",
   "metadata": {},
   "source": [
    "Exact: ['val_Harris poor plate2-Shaft', 'val_Photo 2017-06-07, 08 23 21-Shaft', 'val_DSC08485-Shaft', 'val_Photo 2017-06-05, 10 36 01-Shaft', 'val_2018-05-09 11.41.39-Shaft', 'val_DSC07564-Shaft']\n",
    "\n",
    "Closeby: ['val_DSC02086-Shaft', 'val_2018-01-15 08.39.51-Shaft', 'val_Photo 2015-09-03, 8 25 57 AM-Shaft', 'val_DSCF5986-Shaft', 'val_Photo 2017-01-26, 11 18 57 AM-Shaft']\n",
    "\n",
    "Too far: ['val_DSC00723-Shaft', 'val_Penoscrotal with bad plate-Shaft', 'val_DSC04054-Shaft', 'val_P1080221-Shaft', 'val_DSC03990-Shaft', 'val_DSC07609-Shaft', 'val_DSC00131-Shaft']"
   ]
  },
  {
   "cell_type": "code",
   "execution_count": 43,
   "metadata": {},
   "outputs": [
    {
     "name": "stdout",
     "output_type": "stream",
     "text": [
      "train-Glans Score dict: {'matched': 56, 'closeby': 84, 'too_far': 15} \n",
      "Total: 155\n",
      "train-Meatus Score dict: {'matched': 38, 'closeby': 100, 'too_far': 17} \n",
      "Total: 155\n",
      "train-Shaft Score dict: {'matched': 25, 'closeby': 75, 'too_far': 55} \n",
      "Total: 155\n",
      "val-Glans Score dict: {'matched': 7, 'closeby': 10, 'too_far': 1} \n",
      "Total: 18\n",
      "val-Meatus Score dict: {'matched': 3, 'closeby': 5, 'too_far': 10} \n",
      "Total: 18\n",
      "val-Shaft Score dict: {'matched': 2, 'closeby': 9, 'too_far': 7} \n",
      "Total: 18\n"
     ]
    }
   ],
   "source": [
    "score_breakdown(dir_path=r\"C:\\Users\\Parinita Edke\\OneDrive - SickKids\\vanilla-singletask\\run-20230713_151912-vqocoqpx\")"
   ]
  },
  {
   "cell_type": "code",
   "execution_count": 6,
   "metadata": {},
   "outputs": [
    {
     "data": {
      "text/plain": [
       "val_Photo 2017-06-07, 08 23 21-Shaft       1.484688\n",
       "val_2018-01-15 08.39.51-Shaft              1.115563\n",
       "val_DSC03990-Shaft                         1.505818\n",
       "val_DSC00131-Shaft                         1.489036\n",
       "val_2018-05-09 11.41.39-Shaft              1.450637\n",
       "val_DSC00723-Shaft                         1.597884\n",
       "val_DSCF5986-Shaft                         1.736549\n",
       "val_DSC08485-Shaft                         1.874517\n",
       "val_Photo 2015-09-03, 8 25 57 AM-Shaft     1.630836\n",
       "val_DSC07609-Shaft                         1.260935\n",
       "val_DSC04054-Shaft                         1.789704\n",
       "val_Penoscrotal with bad plate-Shaft       1.440158\n",
       "val_DSC02086-Shaft                         1.561698\n",
       "val_Harris poor plate2-Shaft               2.213229\n",
       "val_Photo 2017-01-26, 11 18 57 AM-Shaft    1.806255\n",
       "val_Photo 2017-06-05, 10 36 01-Shaft       1.291825\n",
       "val_DSC07564-Shaft                         1.342250\n",
       "val_P1080221-Shaft                         1.382868\n",
       "Name: 39, dtype: float64"
      ]
     },
     "execution_count": 6,
     "metadata": {},
     "output_type": "execute_result"
    }
   ],
   "source": [
    "dir_path = r\"C:\\Users\\Parinita Edke\\OneDrive - SickKids\\vanilla-multitask\\run-20230719_162439-ryjigtpv\"\n",
    "df = pd.read_csv(fr\"{dir_path}\\files\\saved_preds\\val_preds.csv\")\n",
    "df\n",
    "wanted_keys = list(df.filter(regex='Shaft').filter(regex='val').keys())\n",
    "temp = df[wanted_keys]\n",
    "temp.iloc[-1]"
   ]
  },
  {
   "cell_type": "code",
   "execution_count": 27,
   "metadata": {},
   "outputs": [
    {
     "data": {
      "text/plain": [
       "0     0.521190\n",
       "1     1.606410\n",
       "2     1.280313\n",
       "3     1.375625\n",
       "4     1.600958\n",
       "5     0.723729\n",
       "6     1.542109\n",
       "7     1.348605\n",
       "8     1.381404\n",
       "9     1.486353\n",
       "10    1.508448\n",
       "11    1.367722\n",
       "12    1.517183\n",
       "13    1.549547\n",
       "14    1.479133\n",
       "15    1.477134\n",
       "16    1.516306\n",
       "17    1.503314\n",
       "18    1.472150\n",
       "19    1.530013\n",
       "20    1.451856\n",
       "21    1.450348\n",
       "22    1.442101\n",
       "23    1.429728\n",
       "24    1.444884\n",
       "25    1.414677\n",
       "26    1.406778\n",
       "27    1.434361\n",
       "28    1.450226\n",
       "29    1.446667\n",
       "30    1.436882\n",
       "31    1.425113\n",
       "32    1.457376\n",
       "33    1.497743\n",
       "34    1.455534\n",
       "35    1.438007\n",
       "36    1.496425\n",
       "37    1.443995\n",
       "38    1.443752\n",
       "39    1.419607\n",
       "Name: val_Photo 2017-06-05, 10 36 01-Shaft, dtype: float64"
      ]
     },
     "execution_count": 27,
     "metadata": {},
     "output_type": "execute_result"
    }
   ],
   "source": [
    "df['val_Photo 2017-06-05, 10 36 01-Shaft']"
   ]
  },
  {
   "cell_type": "code",
   "execution_count": 29,
   "metadata": {},
   "outputs": [
    {
     "data": {
      "text/plain": [
       "39    1.419607\n",
       "Name: val_Photo 2017-06-05, 10 36 01-Shaft, dtype: float64"
      ]
     },
     "execution_count": 29,
     "metadata": {},
     "output_type": "execute_result"
    }
   ],
   "source": [
    "df[df.epoch==39]['val_Photo 2017-06-05, 10 36 01-Shaft']"
   ]
  },
  {
   "cell_type": "code",
   "execution_count": 36,
   "metadata": {},
   "outputs": [
    {
     "data": {
      "text/html": [
       "<div>\n",
       "<style scoped>\n",
       "    .dataframe tbody tr th:only-of-type {\n",
       "        vertical-align: middle;\n",
       "    }\n",
       "\n",
       "    .dataframe tbody tr th {\n",
       "        vertical-align: top;\n",
       "    }\n",
       "\n",
       "    .dataframe thead th {\n",
       "        text-align: right;\n",
       "    }\n",
       "</style>\n",
       "<table border=\"1\" class=\"dataframe\">\n",
       "  <thead>\n",
       "    <tr style=\"text-align: right;\">\n",
       "      <th></th>\n",
       "      <th>labels</th>\n",
       "      <th>MSE_preds</th>\n",
       "      <th>SteeperMSE10_preds</th>\n",
       "      <th>SteeperMSE25_preds</th>\n",
       "    </tr>\n",
       "  </thead>\n",
       "  <tbody>\n",
       "    <tr>\n",
       "      <th>DSC00515-Glans</th>\n",
       "      <td>2</td>\n",
       "      <td>1.600193</td>\n",
       "      <td>1.604034</td>\n",
       "      <td>1.624210</td>\n",
       "    </tr>\n",
       "    <tr>\n",
       "      <th>DSC00534-Glans</th>\n",
       "      <td>0</td>\n",
       "      <td>1.523363</td>\n",
       "      <td>1.597296</td>\n",
       "      <td>1.701241</td>\n",
       "    </tr>\n",
       "    <tr>\n",
       "      <th>DSC00515-Meatus</th>\n",
       "      <td>1</td>\n",
       "      <td>1.824593</td>\n",
       "      <td>1.720772</td>\n",
       "      <td>2.007823</td>\n",
       "    </tr>\n",
       "    <tr>\n",
       "      <th>DSC00534-Meatus</th>\n",
       "      <td>3</td>\n",
       "      <td>1.974427</td>\n",
       "      <td>1.990027</td>\n",
       "      <td>1.895537</td>\n",
       "    </tr>\n",
       "    <tr>\n",
       "      <th>DSC00515-Shaft</th>\n",
       "      <td>0</td>\n",
       "      <td>1.311026</td>\n",
       "      <td>1.375904</td>\n",
       "      <td>1.415175</td>\n",
       "    </tr>\n",
       "    <tr>\n",
       "      <th>...</th>\n",
       "      <td>...</td>\n",
       "      <td>...</td>\n",
       "      <td>...</td>\n",
       "      <td>...</td>\n",
       "    </tr>\n",
       "    <tr>\n",
       "      <th>Camara agosto 25 de 2011 041-Shaft</th>\n",
       "      <td>1</td>\n",
       "      <td>1.464305</td>\n",
       "      <td>1.384213</td>\n",
       "      <td>1.378857</td>\n",
       "    </tr>\n",
       "    <tr>\n",
       "      <th>Iphone marzo 1 de 2012 043-Shaft</th>\n",
       "      <td>3</td>\n",
       "      <td>1.476877</td>\n",
       "      <td>1.491927</td>\n",
       "      <td>1.474806</td>\n",
       "    </tr>\n",
       "    <tr>\n",
       "      <th>DSC01113-Glans</th>\n",
       "      <td>0</td>\n",
       "      <td>1.656235</td>\n",
       "      <td>1.632027</td>\n",
       "      <td>1.541446</td>\n",
       "    </tr>\n",
       "    <tr>\n",
       "      <th>DSC01113-Meatus</th>\n",
       "      <td>0</td>\n",
       "      <td>1.859858</td>\n",
       "      <td>1.879956</td>\n",
       "      <td>2.019058</td>\n",
       "    </tr>\n",
       "    <tr>\n",
       "      <th>DSC01113-Shaft</th>\n",
       "      <td>0</td>\n",
       "      <td>1.305636</td>\n",
       "      <td>1.405941</td>\n",
       "      <td>1.518386</td>\n",
       "    </tr>\n",
       "  </tbody>\n",
       "</table>\n",
       "<p>465 rows × 4 columns</p>\n",
       "</div>"
      ],
      "text/plain": [
       "                                    labels  MSE_preds  SteeperMSE10_preds  \\\n",
       "DSC00515-Glans                           2   1.600193            1.604034   \n",
       "DSC00534-Glans                           0   1.523363            1.597296   \n",
       "DSC00515-Meatus                          1   1.824593            1.720772   \n",
       "DSC00534-Meatus                          3   1.974427            1.990027   \n",
       "DSC00515-Shaft                           0   1.311026            1.375904   \n",
       "...                                    ...        ...                 ...   \n",
       "Camara agosto 25 de 2011 041-Shaft       1   1.464305            1.384213   \n",
       "Iphone marzo 1 de 2012 043-Shaft         3   1.476877            1.491927   \n",
       "DSC01113-Glans                           0   1.656235            1.632027   \n",
       "DSC01113-Meatus                          0   1.859858            1.879956   \n",
       "DSC01113-Shaft                           0   1.305636            1.405941   \n",
       "\n",
       "                                    SteeperMSE25_preds  \n",
       "DSC00515-Glans                                1.624210  \n",
       "DSC00534-Glans                                1.701241  \n",
       "DSC00515-Meatus                               2.007823  \n",
       "DSC00534-Meatus                               1.895537  \n",
       "DSC00515-Shaft                                1.415175  \n",
       "...                                                ...  \n",
       "Camara agosto 25 de 2011 041-Shaft            1.378857  \n",
       "Iphone marzo 1 de 2012 043-Shaft              1.474806  \n",
       "DSC01113-Glans                                1.541446  \n",
       "DSC01113-Meatus                               2.019058  \n",
       "DSC01113-Shaft                                1.518386  \n",
       "\n",
       "[465 rows x 4 columns]"
      ]
     },
     "execution_count": 36,
     "metadata": {},
     "output_type": "execute_result"
    }
   ],
   "source": [
    "mode = 'train'\n",
    "\n",
    "mse_folder = \"run-20230713_151912-vqocoqpx\"\n",
    "smse_10 = \"run-20230713_173330-n2vtyxtz\"\n",
    "smse_25 = \"run-20230713_162229-dxwghyiw\"\n",
    "\n",
    "folder_lst = [mse_folder, smse_10, smse_25]\n",
    "name_lst = ['MSE', 'SteeperMSE10', 'SteeperMSE25']\n",
    "\n",
    "root_path = r\"C:\\Users\\Parinita Edke\\OneDrive - SickKids\\vanilla-singletask\"\n",
    "\n",
    "\n",
    "labels = pd.read_csv(fr\"{root_path}\\{mse_folder}\\files\\saved_preds\\{mode}_labels.csv\")\n",
    "mini_labels = labels.tail(1).transpose().rename(columns={39: \"labels\"})\n",
    "\n",
    "result = mini_labels\n",
    "\n",
    "for i, folder in enumerate(folder_lst):\n",
    "\n",
    "    preds = pd.read_csv(fr\"{root_path}\\{folder}\\files\\saved_preds\\{mode}_preds.csv\")\n",
    "    mini_preds = preds.tail(1).transpose().rename(columns={39: f\"{name_lst[i]}_preds\"})\n",
    "    result = pd.concat([result, mini_preds], axis=1)\n",
    "result.drop(index=result.index[0], axis=0, inplace=True)\n",
    "result"
   ]
  },
  {
   "cell_type": "code",
   "execution_count": 29,
   "metadata": {},
   "outputs": [
    {
     "data": {
      "text/plain": [
       "<AxesSubplot:xlabel='labels', ylabel='MSE_preds'>"
      ]
     },
     "execution_count": 29,
     "metadata": {},
     "output_type": "execute_result"
    },
    {
     "data": {
      "image/png": "[encoded data removed]",
      "text/plain": [
       "<Figure size 640x480 with 1 Axes>"
      ]
     },
     "metadata": {},
     "output_type": "display_data"
    }
   ],
   "source": [
    "sns.stripplot(data=result, x='labels', y='MSE_preds')"
   ]
  },
  {
   "cell_type": "code",
   "execution_count": 30,
   "metadata": {},
   "outputs": [
    {
     "data": {
      "text/plain": [
       "<AxesSubplot:xlabel='labels', ylabel='SteeperMSE10_preds'>"
      ]
     },
     "execution_count": 30,
     "metadata": {},
     "output_type": "execute_result"
    },
    {
     "data": {
      "image/png": "[encoded data removed]",
      "text/plain": [
       "<Figure size 640x480 with 1 Axes>"
      ]
     },
     "metadata": {},
     "output_type": "display_data"
    }
   ],
   "source": [
    "sns.stripplot(data=result, x='labels', y='SteeperMSE10_preds')"
   ]
  },
  {
   "cell_type": "code",
   "execution_count": 37,
   "metadata": {},
   "outputs": [
    {
     "data": {
      "text/plain": [
       "<AxesSubplot:xlabel='labels', ylabel='SteeperMSE25_preds'>"
      ]
     },
     "execution_count": 37,
     "metadata": {},
     "output_type": "execute_result"
    },
    {
     "data": {
      "image/png": "[encoded data removed]",
      "text/plain": [
       "<Figure size 640x480 with 1 Axes>"
      ]
     },
     "metadata": {},
     "output_type": "display_data"
    }
   ],
   "source": [
    "sns.stripplot(data=result, x='labels', y='SteeperMSE25_preds')"
   ]
  },
  {
   "cell_type": "code",
   "execution_count": 64,
   "metadata": {},
   "outputs": [],
   "source": [
    "path = Path(r'C:\\Users\\Parinita Edke\\Desktop\\Hypospadias-Project\\manual-baselines\\model_preds')    \n",
    "scores = {}\n",
    "\n",
    "for dir in list(path.iterdir()):\n",
    "    dir_name = dir.stem\n",
    "    scores[dir_name] = []\n",
    "\n",
    "    files = list(dir.glob(\"*val*\"))\n",
    "    # print(str(files[0]))\n",
    "    # print(list(dir.iterdir().glob('*train*')))\n",
    "\n",
    "    labels = pd.read_csv(fr\"{str(files[0])}\")\n",
    "    preds = pd.read_csv(fr\"{str(files[1])}\")\n",
    "    \n",
    "\n",
    "    score_dict, total = measure_prediction_similarity(preds, labels, epoch=24)\n",
    "\n",
    "    scores[dir_name].extend([score_dict, total])\n",
    "\n",
    "    "
   ]
  },
  {
   "cell_type": "code",
   "execution_count": 65,
   "metadata": {},
   "outputs": [
    {
     "data": {
      "text/plain": [
       "{'fancy-dawn-34': [{'matched': 33, 'closeby': 50, 'too_far': 16}, 99],\n",
       " 'laced-sea-39': [{'matched': 33, 'closeby': 52, 'too_far': 14}, 99],\n",
       " 'leafy-fire-35': [{'matched': 28, 'closeby': 36, 'too_far': 35}, 99],\n",
       " 'northern-dew-38': [{'matched': 33, 'closeby': 52, 'too_far': 14}, 99],\n",
       " 'stilted-jazz-36': [{'matched': 26, 'closeby': 35, 'too_far': 38}, 99],\n",
       " 'worthy-microwave-40': [{'matched': 33, 'closeby': 53, 'too_far': 13}, 99]}"
      ]
     },
     "execution_count": 65,
     "metadata": {},
     "output_type": "execute_result"
    }
   ],
   "source": [
    "scores"
   ]
  },
  {
   "cell_type": "code",
   "execution_count": 81,
   "metadata": {},
   "outputs": [
    {
     "data": {
      "text/plain": [
       "155"
      ]
     },
     "execution_count": 81,
     "metadata": {},
     "output_type": "execute_result"
    }
   ],
   "source": [
    "img_dir = Path(r\"C:\\Users\\Parinita Edke\\Desktop\\Hypospadias-Project\\Hypospadias-Data\\datasets\\19-April-23_split - no_special_chars\\train\\images\")\n",
    "len(list(img_dir.iterdir()))"
   ]
  },
  {
   "cell_type": "code",
   "execution_count": null,
   "metadata": {},
   "outputs": [],
   "source": []
  }
 ],
 "metadata": {
  "kernelspec": {
   "display_name": "pedke-venv",
   "language": "python",
   "name": "python3"
  },
  "language_info": {
   "codemirror_mode": {
    "name": "ipython",
    "version": 3
   },
   "file_extension": ".py",
   "mimetype": "text/x-python",
   "name": "python",
   "nbconvert_exporter": "python",
   "pygments_lexer": "ipython3",
   "version": "3.7.8"
  },
  "orig_nbformat": 4
 },
 "nbformat": 4,
 "nbformat_minor": 2
}
